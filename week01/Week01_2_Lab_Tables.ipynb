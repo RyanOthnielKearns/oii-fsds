{
 "cells": [
  {
   "cell_type": "markdown",
   "metadata": {},
   "source": [
    "# FSDS24 - Week 1, Lab 2: Exploring bivariate relationships\n",
    "\n",
    "In this lab, you will be encouraged to explore the relationships between two variables in the data set. This will involve some data cleaning in addition to any statistical routines. You are welcome to use the same data as in the previous lab and to borrow code from the virtual walkthrough as well as from the last lab. \n",
    "\n",
    "The important distinctions to make below are whether we are dealing with continuous or categorical data and whether the continuous data should be considered by value (parametric) or by rank order (non-parametric). You are again welcome to process any column in the data set for this as well as to filter the data according to any goals that you might have for inquiry. There is no need to develop a specific research question at this time, but you should be considering research questions as a form of motivation when exploring this data. \n",
    "\n",
    "On Friday October 18th you will be encouraged to share these results with your group during the first part of the tutorial. "
   ]
  },
  {
   "cell_type": "markdown",
   "metadata": {},
   "source": [
    "# Exercise 1. A bivariate correlation\n",
    "\n",
    "- Locate two numeric varaibles within the columns. \n",
    "- Filter the data so that you only have valid columns according to some reasonable logic.\n",
    "- Report on the key measures of central tendency (mean, median, and standard deviation; mode might not be relevant for numeric data due to resolution issues)\n",
    "- Produce a JointPlot or a ScatterPlot for these two varaibles. \n",
    " - Unlike the Iris Data, we would not assume that your data will be faceted, though it might be depending on your question. \n",
    " - Consider whether a parametric or non-parametric correlation is more suitable. \n",
    " - Perform a correlation (Pearson product moment or Spearman's Rank Order correlation) and report the results. \n",
    "   - You can perform both and explain the difference if you are unsure or believe that both might be suitable. \n",
    "\n",
    "In this case, we would prefer that you select variables which you think might have some meaningful relationship to each other. Prior to your analysis, introduce your variables and explain why a relationship between them is tenable. Then when you select your bivariate relationship to explore based on the PairGrid. You do not need to write the specific null hypothesis but it might help your wording. In practice, we rarely state the null explicitly but instead often assert a hypothesis that implies the null hypothesis.\n",
    "\n",
    "Thereafter, you are welcome to explore other relationships which might be tenable or significant but we encourage you to first think deductively. "
   ]
  },
  {
   "cell_type": "markdown",
   "metadata": {},
   "source": [
    "## BEGIN MY WORK\n",
    "### Imports and styling"
   ]
  },
  {
   "cell_type": "code",
   "execution_count": 23,
   "metadata": {},
   "outputs": [],
   "source": [
    "import pandas as pd\n",
    "import seaborn as sns\n",
    "\n",
    "from scipy import stats\n",
    "\n",
    "# Set the style and color palette\n",
    "sns.set_style(\"whitegrid\")\n",
    "sns.set_palette(\"husl\")"
   ]
  },
  {
   "cell_type": "markdown",
   "metadata": {},
   "source": [
    "Let's start by loading in the Stack Exchange movie data and presenting some summary statistics."
   ]
  },
  {
   "cell_type": "code",
   "execution_count": 17,
   "metadata": {},
   "outputs": [
    {
     "name": "stdout",
     "output_type": "stream",
     "text": [
      "<class 'pandas.core.frame.DataFrame'>\n",
      "RangeIndex: 64054 entries, 0 to 64053\n",
      "Data columns (total 25 columns):\n",
      " #   Column                 Non-Null Count  Dtype         \n",
      "---  ------                 --------------  -----         \n",
      " 0   Id                     64054 non-null  object        \n",
      " 1   PostTypeId             64054 non-null  object        \n",
      " 2   AcceptedAnswerId       13634 non-null  object        \n",
      " 3   CreationDate           64054 non-null  datetime64[ns]\n",
      " 4   Score                  64054 non-null  int64         \n",
      " 5   ViewCount              22570 non-null  float64       \n",
      " 6   Body                   64054 non-null  object        \n",
      " 7   OwnerUserId            62148 non-null  object        \n",
      " 8   LastEditorUserId       40154 non-null  object        \n",
      " 9   LastEditDate           40848 non-null  datetime64[ns]\n",
      " 10  LastActivityDate       64054 non-null  datetime64[ns]\n",
      " 11  Title                  22570 non-null  object        \n",
      " 12  Tags                   22570 non-null  object        \n",
      " 13  AnswerCount            22570 non-null  float64       \n",
      " 14  CommentCount           64054 non-null  int64         \n",
      " 15  ContentLicense         64054 non-null  object        \n",
      " 16  ParentId               37036 non-null  object        \n",
      " 17  FavoriteCount          4886 non-null   float64       \n",
      " 18  LastEditorDisplayName  940 non-null    object        \n",
      " 19  OwnerDisplayName       64054 non-null  object        \n",
      " 20  ClosedDate             2080 non-null   datetime64[ns]\n",
      " 21  CommunityOwnedDate     68 non-null     datetime64[ns]\n",
      " 22  BodyText               64054 non-null  object        \n",
      " 23  BodyURLs               64054 non-null  object        \n",
      " 24  TagsList               64054 non-null  object        \n",
      "dtypes: datetime64[ns](5), float64(3), int64(2), object(15)\n",
      "memory usage: 12.2+ MB\n",
      "None\n"
     ]
    }
   ],
   "source": [
    "stack_df = pd.read_feather(\"data/movies_stack_df.feather\")\n",
    "print(stack_df.info())"
   ]
  },
  {
   "cell_type": "code",
   "execution_count": 18,
   "metadata": {},
   "outputs": [
    {
     "data": {
      "text/html": [
       "<div>\n",
       "<style scoped>\n",
       "    .dataframe tbody tr th:only-of-type {\n",
       "        vertical-align: middle;\n",
       "    }\n",
       "\n",
       "    .dataframe tbody tr th {\n",
       "        vertical-align: top;\n",
       "    }\n",
       "\n",
       "    .dataframe thead th {\n",
       "        text-align: right;\n",
       "    }\n",
       "</style>\n",
       "<table border=\"1\" class=\"dataframe\">\n",
       "  <thead>\n",
       "    <tr style=\"text-align: right;\">\n",
       "      <th></th>\n",
       "      <th>CreationDate</th>\n",
       "      <th>Score</th>\n",
       "      <th>ViewCount</th>\n",
       "      <th>LastEditDate</th>\n",
       "      <th>LastActivityDate</th>\n",
       "      <th>AnswerCount</th>\n",
       "      <th>CommentCount</th>\n",
       "      <th>FavoriteCount</th>\n",
       "      <th>ClosedDate</th>\n",
       "      <th>CommunityOwnedDate</th>\n",
       "    </tr>\n",
       "  </thead>\n",
       "  <tbody>\n",
       "    <tr>\n",
       "      <th>count</th>\n",
       "      <td>64054</td>\n",
       "      <td>64054.000000</td>\n",
       "      <td>2.257000e+04</td>\n",
       "      <td>40848</td>\n",
       "      <td>64054</td>\n",
       "      <td>22570.000000</td>\n",
       "      <td>64054.000000</td>\n",
       "      <td>4886.000000</td>\n",
       "      <td>2080</td>\n",
       "      <td>68</td>\n",
       "    </tr>\n",
       "    <tr>\n",
       "      <th>mean</th>\n",
       "      <td>2017-01-28 07:30:11.645309952</td>\n",
       "      <td>7.262966</td>\n",
       "      <td>7.704065e+03</td>\n",
       "      <td>2017-09-29 02:42:58.998855424</td>\n",
       "      <td>2017-08-23 05:14:14.532300032</td>\n",
       "      <td>1.640939</td>\n",
       "      <td>1.576888</td>\n",
       "      <td>0.000614</td>\n",
       "      <td>2018-03-01 01:13:03.962836992</td>\n",
       "      <td>2016-09-06 08:22:45.394588160</td>\n",
       "    </tr>\n",
       "    <tr>\n",
       "      <th>min</th>\n",
       "      <td>2011-10-03 15:29:31.590000</td>\n",
       "      <td>-24.000000</td>\n",
       "      <td>6.000000e+00</td>\n",
       "      <td>2011-12-01 01:28:28.097000</td>\n",
       "      <td>2011-10-04 18:17:13.013000</td>\n",
       "      <td>0.000000</td>\n",
       "      <td>0.000000</td>\n",
       "      <td>0.000000</td>\n",
       "      <td>2012-05-11 12:07:26.233000</td>\n",
       "      <td>2013-01-07 16:46:19.967000</td>\n",
       "    </tr>\n",
       "    <tr>\n",
       "      <th>25%</th>\n",
       "      <td>2015-02-24 16:08:22.124000</td>\n",
       "      <td>1.000000</td>\n",
       "      <td>4.220000e+02</td>\n",
       "      <td>2015-12-29 13:49:01.824000</td>\n",
       "      <td>2015-11-18 07:26:38.204499968</td>\n",
       "      <td>1.000000</td>\n",
       "      <td>0.000000</td>\n",
       "      <td>0.000000</td>\n",
       "      <td>2017-11-27 08:27:23.398500096</td>\n",
       "      <td>2014-07-31 11:56:58.958000128</td>\n",
       "    </tr>\n",
       "    <tr>\n",
       "      <th>50%</th>\n",
       "      <td>2017-01-05 17:55:53.952999936</td>\n",
       "      <td>4.000000</td>\n",
       "      <td>1.428000e+03</td>\n",
       "      <td>2017-07-03 14:04:47.221999872</td>\n",
       "      <td>2017-06-07 07:15:49.952999936</td>\n",
       "      <td>1.000000</td>\n",
       "      <td>1.000000</td>\n",
       "      <td>0.000000</td>\n",
       "      <td>2018-01-19 13:25:36.808499968</td>\n",
       "      <td>2016-04-12 13:53:40.111500032</td>\n",
       "    </tr>\n",
       "    <tr>\n",
       "      <th>75%</th>\n",
       "      <td>2018-12-11 20:24:26.234499840</td>\n",
       "      <td>9.000000</td>\n",
       "      <td>5.138000e+03</td>\n",
       "      <td>2019-11-05 05:49:14.064000</td>\n",
       "      <td>2019-05-20 05:03:03.467749888</td>\n",
       "      <td>2.000000</td>\n",
       "      <td>2.000000</td>\n",
       "      <td>0.000000</td>\n",
       "      <td>2018-05-02 11:12:56.732749824</td>\n",
       "      <td>2018-10-16 13:55:45.997250048</td>\n",
       "    </tr>\n",
       "    <tr>\n",
       "      <th>max</th>\n",
       "      <td>2023-09-02 22:53:45.120000</td>\n",
       "      <td>326.000000</td>\n",
       "      <td>1.528888e+06</td>\n",
       "      <td>2023-09-02 23:52:04.107000</td>\n",
       "      <td>2023-09-02 23:52:04.107000</td>\n",
       "      <td>19.000000</td>\n",
       "      <td>31.000000</td>\n",
       "      <td>1.000000</td>\n",
       "      <td>2023-09-02 06:19:35.427000</td>\n",
       "      <td>2023-03-08 16:46:15.337000</td>\n",
       "    </tr>\n",
       "    <tr>\n",
       "      <th>std</th>\n",
       "      <td>NaN</td>\n",
       "      <td>11.699989</td>\n",
       "      <td>2.936640e+04</td>\n",
       "      <td>NaN</td>\n",
       "      <td>NaN</td>\n",
       "      <td>1.445729</td>\n",
       "      <td>2.440911</td>\n",
       "      <td>0.024774</td>\n",
       "      <td>NaN</td>\n",
       "      <td>NaN</td>\n",
       "    </tr>\n",
       "  </tbody>\n",
       "</table>\n",
       "</div>"
      ],
      "text/plain": [
       "                        CreationDate         Score     ViewCount  \\\n",
       "count                          64054  64054.000000  2.257000e+04   \n",
       "mean   2017-01-28 07:30:11.645309952      7.262966  7.704065e+03   \n",
       "min       2011-10-03 15:29:31.590000    -24.000000  6.000000e+00   \n",
       "25%       2015-02-24 16:08:22.124000      1.000000  4.220000e+02   \n",
       "50%    2017-01-05 17:55:53.952999936      4.000000  1.428000e+03   \n",
       "75%    2018-12-11 20:24:26.234499840      9.000000  5.138000e+03   \n",
       "max       2023-09-02 22:53:45.120000    326.000000  1.528888e+06   \n",
       "std                              NaN     11.699989  2.936640e+04   \n",
       "\n",
       "                        LastEditDate               LastActivityDate  \\\n",
       "count                          40848                          64054   \n",
       "mean   2017-09-29 02:42:58.998855424  2017-08-23 05:14:14.532300032   \n",
       "min       2011-12-01 01:28:28.097000     2011-10-04 18:17:13.013000   \n",
       "25%       2015-12-29 13:49:01.824000  2015-11-18 07:26:38.204499968   \n",
       "50%    2017-07-03 14:04:47.221999872  2017-06-07 07:15:49.952999936   \n",
       "75%       2019-11-05 05:49:14.064000  2019-05-20 05:03:03.467749888   \n",
       "max       2023-09-02 23:52:04.107000     2023-09-02 23:52:04.107000   \n",
       "std                              NaN                            NaN   \n",
       "\n",
       "        AnswerCount  CommentCount  FavoriteCount  \\\n",
       "count  22570.000000  64054.000000    4886.000000   \n",
       "mean       1.640939      1.576888       0.000614   \n",
       "min        0.000000      0.000000       0.000000   \n",
       "25%        1.000000      0.000000       0.000000   \n",
       "50%        1.000000      1.000000       0.000000   \n",
       "75%        2.000000      2.000000       0.000000   \n",
       "max       19.000000     31.000000       1.000000   \n",
       "std        1.445729      2.440911       0.024774   \n",
       "\n",
       "                          ClosedDate             CommunityOwnedDate  \n",
       "count                           2080                             68  \n",
       "mean   2018-03-01 01:13:03.962836992  2016-09-06 08:22:45.394588160  \n",
       "min       2012-05-11 12:07:26.233000     2013-01-07 16:46:19.967000  \n",
       "25%    2017-11-27 08:27:23.398500096  2014-07-31 11:56:58.958000128  \n",
       "50%    2018-01-19 13:25:36.808499968  2016-04-12 13:53:40.111500032  \n",
       "75%    2018-05-02 11:12:56.732749824  2018-10-16 13:55:45.997250048  \n",
       "max       2023-09-02 06:19:35.427000     2023-03-08 16:46:15.337000  \n",
       "std                              NaN                            NaN  "
      ]
     },
     "execution_count": 18,
     "metadata": {},
     "output_type": "execute_result"
    }
   ],
   "source": [
    "stack_df.describe()"
   ]
  },
  {
   "cell_type": "markdown",
   "metadata": {},
   "source": [
    "Off rip, I'm interested in the relationship between view count and score. Intuitively (deductively) I'd expect these variables to be positively correlated.\n",
    "\n",
    "Unfortunately, looking at data wrangler shows that `ViewCount` values are missing 65% of the time. The [schema documentation](https://meta.stackexchange.com/questions/2677/database-schema-documentation-for-the-public-data-dump-and-sede) doesn't specify a default (I'm guessing 0, but can't confirm). So instead I'm going to look at the relationship between `Score` and `CommentCount`.\n",
    "\n",
    "Let's highlight these values from the `.describe()` call."
   ]
  },
  {
   "cell_type": "code",
   "execution_count": 19,
   "metadata": {},
   "outputs": [
    {
     "data": {
      "text/html": [
       "<div>\n",
       "<style scoped>\n",
       "    .dataframe tbody tr th:only-of-type {\n",
       "        vertical-align: middle;\n",
       "    }\n",
       "\n",
       "    .dataframe tbody tr th {\n",
       "        vertical-align: top;\n",
       "    }\n",
       "\n",
       "    .dataframe thead th {\n",
       "        text-align: right;\n",
       "    }\n",
       "</style>\n",
       "<table border=\"1\" class=\"dataframe\">\n",
       "  <thead>\n",
       "    <tr style=\"text-align: right;\">\n",
       "      <th></th>\n",
       "      <th>Score</th>\n",
       "      <th>CommentCount</th>\n",
       "    </tr>\n",
       "  </thead>\n",
       "  <tbody>\n",
       "    <tr>\n",
       "      <th>mean</th>\n",
       "      <td>7.262966</td>\n",
       "      <td>1.576888</td>\n",
       "    </tr>\n",
       "    <tr>\n",
       "      <th>50%</th>\n",
       "      <td>4.000000</td>\n",
       "      <td>1.000000</td>\n",
       "    </tr>\n",
       "    <tr>\n",
       "      <th>std</th>\n",
       "      <td>11.699989</td>\n",
       "      <td>2.440911</td>\n",
       "    </tr>\n",
       "  </tbody>\n",
       "</table>\n",
       "</div>"
      ],
      "text/plain": [
       "          Score  CommentCount\n",
       "mean   7.262966      1.576888\n",
       "50%    4.000000      1.000000\n",
       "std   11.699989      2.440911"
      ]
     },
     "execution_count": 19,
     "metadata": {},
     "output_type": "execute_result"
    }
   ],
   "source": [
    "bivar_corr_df = stack_df[['Score', 'CommentCount']]\n",
    "bivar_corr_df.describe().loc[['mean', '50%', 'std']]\n"
   ]
  },
  {
   "cell_type": "markdown",
   "metadata": {},
   "source": [
    "Obviously these values are distributed on very different scales, so there's no sense in trying any sort of means-equivalence test. But we can take a look at a pairplot to eyeball correlation, first."
   ]
  },
  {
   "cell_type": "code",
   "execution_count": 22,
   "metadata": {},
   "outputs": [
    {
     "data": {
      "image/png": "[encoded data removed]",
      "text/plain": [
       "<Figure size 500x500 with 6 Axes>"
      ]
     },
     "metadata": {},
     "output_type": "display_data"
    }
   ],
   "source": [
    "import seaborn as sns\n",
    "import matplotlib.pyplot as plt\n",
    "\n",
    "fig = sns.PairGrid(bivar_corr_df, height=2.5)\n",
    "\n",
    "# Show scatterplot in the top corner\n",
    "fig.map_upper(sns.scatterplot, s=35, alpha=0.7)\n",
    "\n",
    "# Show KDE plots in bottom corner\n",
    "fig.map_lower(sns.kdeplot, levels=5, alpha=0.6)\n",
    "\n",
    "# Show histograms across diagonal\n",
    "fig.map_diag(sns.histplot, kde=True, alpha=0.6)\n",
    "\n",
    "plt.tight_layout()\n",
    "\n",
    "plt.show()"
   ]
  },
  {
   "cell_type": "markdown",
   "metadata": {},
   "source": [
    "Doesn't actually look great. Let's try a nonparametric test for correlation, like Spearman Rho:"
   ]
  },
  {
   "cell_type": "code",
   "execution_count": 25,
   "metadata": {},
   "outputs": [
    {
     "name": "stdout",
     "output_type": "stream",
     "text": [
      "Correlation: 0.31\n",
      "Significance: 0.00\n"
     ]
    }
   ],
   "source": [
    "corr, p_value = stats.spearmanr(\n",
    "    bivar_corr_df['Score'],\n",
    "    bivar_corr_df['CommentCount']\n",
    ")\n",
    "print(f\"Correlation: {corr:.2f}\")\n",
    "print(f\"Significance: {p_value:.2f}\")"
   ]
  },
  {
   "cell_type": "markdown",
   "metadata": {},
   "source": [
    "We might as well compare with a Pearson parametric correlation, though the assumptions aren't really met, so we'd have to take this result with a grain of salt:"
   ]
  },
  {
   "cell_type": "code",
   "execution_count": 26,
   "metadata": {},
   "outputs": [
    {
     "name": "stdout",
     "output_type": "stream",
     "text": [
      "Correlation: 0.34\n",
      "Significance: 0.00\n"
     ]
    }
   ],
   "source": [
    "corr, p_value = stats.pearsonr(\n",
    "    bivar_corr_df['Score'],\n",
    "    bivar_corr_df['CommentCount']\n",
    ")\n",
    "print(f\"Correlation: {corr:.2f}\")\n",
    "print(f\"Significance: {p_value:.2f}\")"
   ]
  },
  {
   "cell_type": "markdown",
   "metadata": {},
   "source": [
    "Pearson shows slightly higher correlation—still not strong correlation, though.\n",
    "\n",
    "## END MY WORK"
   ]
  },
  {
   "cell_type": "markdown",
   "metadata": {},
   "source": [
    "# Exercise 2. Considering categorical variables \n",
    "\n",
    "How might we locate a categorical varaible within the Movie Stack Exchange? What about two? Would you be able to construct your own Categorical variable? Here are some ideas for what might suit as a variable:\n",
    "- Binary:\n",
    "  - Presence or absence of a word in the BodyText\n",
    "  - A 'cut point' on a distribution, such as all those above and below the elbow on a steep distribution.\n",
    "- Multinomial: Different types of PostTypeID (though in fairness, it really ends up functionally binary as its mostly Questions and Answers)\n",
    "  - Different 'roles' of users (we will see more of this tomorrow), but one role might be to post a question and one might be to only post an answer,\n",
    "  - Presence of specific tags (note: that a post can have multiple tags so one would need to ensure these are _mutually exclusive_),\n",
    "  - Different 'eras' of posts (we will see more of this next week when we explore data over a time series, but for now one might consider posts by year naively)\n",
    "\n",
    "Find either two Categorical variables, or a Categorical variable and a continuous variable. Then, make a comparison test or a test of independence. Justify whether your means comparison test is parametric or non-parametric. \n",
    "\n",
    "Below you should: \n",
    "- Explain your two variables first in text: I chose X because ... and Y because .... Posit why you believe there should or should not be a relationship between the two variables in text.\n",
    "- Then perform the analysis, first by doing an exploratory analysis reporting on the N for each group or category as well as key measures of central tendency. \n",
    "- Then show a plot or table that summarises the two variables jointly. This might be a box-plot, a bar chart, or a cross tab (for two categorical variables). \n",
    "- Then report the statistical test and comment on the results. \n",
    "\n",
    "Again, like in the analysis above, we recommend that you do not 'seek out' a relationship that is significant but start deductively from what you might understand about the nature of online communication, your own intuition, and where possible or appropriate, existing literature. We would be just as happy to see null findings done well as to see a significant value. \n",
    "\n"
   ]
  },
  {
   "cell_type": "markdown",
   "metadata": {},
   "source": [
    "## BEGIN MY WORK\n",
    "I'm going to construct a categorical variable for the first tag in `Tags`, which is probably the most relevant tag."
   ]
  },
  {
   "cell_type": "code",
   "execution_count": 35,
   "metadata": {},
   "outputs": [
    {
     "data": {
      "text/html": [
       "<div>\n",
       "<style scoped>\n",
       "    .dataframe tbody tr th:only-of-type {\n",
       "        vertical-align: middle;\n",
       "    }\n",
       "\n",
       "    .dataframe tbody tr th {\n",
       "        vertical-align: top;\n",
       "    }\n",
       "\n",
       "    .dataframe thead th {\n",
       "        text-align: right;\n",
       "    }\n",
       "</style>\n",
       "<table border=\"1\" class=\"dataframe\">\n",
       "  <thead>\n",
       "    <tr style=\"text-align: right;\">\n",
       "      <th></th>\n",
       "      <th>Tags</th>\n",
       "      <th>FirstTag</th>\n",
       "    </tr>\n",
       "  </thead>\n",
       "  <tbody>\n",
       "    <tr>\n",
       "      <th>0</th>\n",
       "      <td>&lt;wedding-crashers&gt;</td>\n",
       "      <td>wedding-crashers</td>\n",
       "    </tr>\n",
       "    <tr>\n",
       "      <th>1</th>\n",
       "      <td>None</td>\n",
       "      <td>NaN</td>\n",
       "    </tr>\n",
       "    <tr>\n",
       "      <th>2</th>\n",
       "      <td>&lt;analysis&gt;&lt;star-wars&gt;</td>\n",
       "      <td>analysis</td>\n",
       "    </tr>\n",
       "    <tr>\n",
       "      <th>3</th>\n",
       "      <td>&lt;comedy&gt;&lt;the-pink-panther&gt;</td>\n",
       "      <td>comedy</td>\n",
       "    </tr>\n",
       "    <tr>\n",
       "      <th>4</th>\n",
       "      <td>&lt;plot-explanation&gt;&lt;analysis&gt;&lt;ending&gt;&lt;the-tree-...</td>\n",
       "      <td>plot-explanation</td>\n",
       "    </tr>\n",
       "  </tbody>\n",
       "</table>\n",
       "</div>"
      ],
      "text/plain": [
       "                                                Tags          FirstTag\n",
       "0                                 <wedding-crashers>  wedding-crashers\n",
       "1                                               None               NaN\n",
       "2                              <analysis><star-wars>          analysis\n",
       "3                         <comedy><the-pink-panther>            comedy\n",
       "4  <plot-explanation><analysis><ending><the-tree-...  plot-explanation"
      ]
     },
     "execution_count": 35,
     "metadata": {},
     "output_type": "execute_result"
    }
   ],
   "source": [
    "stack_df[\"FirstTag\"] = stack_df[\"Tags\"].dropna().map(lambda x: x.split(\"><\")[0].strip(\"<>\"))\n",
    "stack_df[['Tags', 'FirstTag']].head()"
   ]
  },
  {
   "cell_type": "code",
   "execution_count": 42,
   "metadata": {},
   "outputs": [
    {
     "data": {
      "text/plain": [
       "FirstTag\n",
       "plot-explanation                      8186\n",
       "character                             1775\n",
       "analysis                              1010\n",
       "identify-this-movie                    842\n",
       "dialogue                               629\n",
       "                                      ... \n",
       "national-treasure-book-of-secrets        1\n",
       "nausicaa-of-the-valley-of-the-wind       1\n",
       "bobs-burgers                             1\n",
       "need-for-speed                           1\n",
       "pumping-iron                             1\n",
       "Name: count, Length: 1529, dtype: int64"
      ]
     },
     "execution_count": 42,
     "metadata": {},
     "output_type": "execute_result"
    }
   ],
   "source": [
    "stack_df.value_counts(\"FirstTag\")"
   ]
  },
  {
   "cell_type": "markdown",
   "metadata": {},
   "source": [
    "This categorical variable has 1529 distinct values with a long tail. Let's apply an \"other\" group."
   ]
  },
  {
   "cell_type": "code",
   "execution_count": 48,
   "metadata": {},
   "outputs": [],
   "source": [
    "def categorical_apply_other_grouping(series: pd.Series, n_to_keep: int = 5) -> pd.Series:\n",
    "    # Get the counts of each category\n",
    "    value_counts = series.value_counts()\n",
    "    \n",
    "    # Identify the top n_to_keep most common values\n",
    "    top_n = value_counts.nlargest(n_to_keep)\n",
    "    \n",
    "    # Aggregate all other values as \"other\"\n",
    "    other_count = value_counts.iloc[n_to_keep:].sum()\n",
    "    \n",
    "    # Create a new series that includes the top 5 and \"other\"\n",
    "    top_n['other'] = other_count\n",
    "    \n",
    "    return top_n"
   ]
  },
  {
   "cell_type": "code",
   "execution_count": 50,
   "metadata": {},
   "outputs": [
    {
     "data": {
      "text/plain": [
       "FirstTag\n",
       "plot-explanation        8186\n",
       "character               1775\n",
       "analysis                1010\n",
       "identify-this-movie      842\n",
       "dialogue                 629\n",
       "other                  10128\n",
       "Name: count, dtype: int64"
      ]
     },
     "execution_count": 50,
     "metadata": {},
     "output_type": "execute_result"
    }
   ],
   "source": [
    "categorical_apply_other_grouping(stack_df[\"FirstTag\"], 5)"
   ]
  },
  {
   "cell_type": "markdown",
   "metadata": {},
   "source": [
    "We need to map these categories to assign all the other first tags to the \"other\" group."
   ]
  },
  {
   "cell_type": "code",
   "execution_count": 58,
   "metadata": {},
   "outputs": [
    {
     "name": "stdout",
     "output_type": "stream",
     "text": [
      "['plot-explanation', 'character', 'analysis', 'identify-this-movie', 'dialogue']\n"
     ]
    }
   ],
   "source": [
    "n_to_keep = 5\n",
    "top_n_tags = stack_df[\"FirstTag\"].value_counts().nlargest(n_to_keep).index\n",
    "\n",
    "print(top_n_tags.tolist())"
   ]
  },
  {
   "cell_type": "code",
   "execution_count": 57,
   "metadata": {},
   "outputs": [
    {
     "data": {
      "text/html": [
       "<div>\n",
       "<style scoped>\n",
       "    .dataframe tbody tr th:only-of-type {\n",
       "        vertical-align: middle;\n",
       "    }\n",
       "\n",
       "    .dataframe tbody tr th {\n",
       "        vertical-align: top;\n",
       "    }\n",
       "\n",
       "    .dataframe thead th {\n",
       "        text-align: right;\n",
       "    }\n",
       "</style>\n",
       "<table border=\"1\" class=\"dataframe\">\n",
       "  <thead>\n",
       "    <tr style=\"text-align: right;\">\n",
       "      <th></th>\n",
       "      <th>FirstTag</th>\n",
       "      <th>FirstTagGrouped</th>\n",
       "    </tr>\n",
       "  </thead>\n",
       "  <tbody>\n",
       "    <tr>\n",
       "      <th>0</th>\n",
       "      <td>wedding-crashers</td>\n",
       "      <td>other</td>\n",
       "    </tr>\n",
       "    <tr>\n",
       "      <th>1</th>\n",
       "      <td>NaN</td>\n",
       "      <td>other</td>\n",
       "    </tr>\n",
       "    <tr>\n",
       "      <th>2</th>\n",
       "      <td>analysis</td>\n",
       "      <td>analysis</td>\n",
       "    </tr>\n",
       "    <tr>\n",
       "      <th>3</th>\n",
       "      <td>comedy</td>\n",
       "      <td>other</td>\n",
       "    </tr>\n",
       "    <tr>\n",
       "      <th>4</th>\n",
       "      <td>plot-explanation</td>\n",
       "      <td>plot-explanation</td>\n",
       "    </tr>\n",
       "  </tbody>\n",
       "</table>\n",
       "</div>"
      ],
      "text/plain": [
       "           FirstTag   FirstTagGrouped\n",
       "0  wedding-crashers             other\n",
       "1               NaN             other\n",
       "2          analysis          analysis\n",
       "3            comedy             other\n",
       "4  plot-explanation  plot-explanation"
      ]
     },
     "execution_count": 57,
     "metadata": {},
     "output_type": "execute_result"
    }
   ],
   "source": [
    "# Remap the tags to the top 5 and \"other\" otherwise\n",
    "stack_df[\"FirstTagGrouped\"] = stack_df[\"FirstTag\"].map({tag: tag for tag in top_n_tags}).fillna(\"other\")\n",
    "\n",
    "stack_df[['FirstTag', 'FirstTagGrouped']].head()"
   ]
  },
  {
   "cell_type": "markdown",
   "metadata": {},
   "source": [
    "Let's straightforwardly compare this categorical variable I've created with the post type label, which we can get like we did in Lab 1 with a remapping."
   ]
  },
  {
   "cell_type": "code",
   "execution_count": 59,
   "metadata": {},
   "outputs": [
    {
     "data": {
      "text/html": [
       "<div>\n",
       "<style scoped>\n",
       "    .dataframe tbody tr th:only-of-type {\n",
       "        vertical-align: middle;\n",
       "    }\n",
       "\n",
       "    .dataframe tbody tr th {\n",
       "        vertical-align: top;\n",
       "    }\n",
       "\n",
       "    .dataframe thead th {\n",
       "        text-align: right;\n",
       "    }\n",
       "</style>\n",
       "<table border=\"1\" class=\"dataframe\">\n",
       "  <thead>\n",
       "    <tr style=\"text-align: right;\">\n",
       "      <th></th>\n",
       "      <th>PostTypeId</th>\n",
       "      <th>PostTypeLabel</th>\n",
       "    </tr>\n",
       "  </thead>\n",
       "  <tbody>\n",
       "    <tr>\n",
       "      <th>0</th>\n",
       "      <td>1</td>\n",
       "      <td>Question</td>\n",
       "    </tr>\n",
       "    <tr>\n",
       "      <th>1</th>\n",
       "      <td>2</td>\n",
       "      <td>Answer</td>\n",
       "    </tr>\n",
       "    <tr>\n",
       "      <th>2</th>\n",
       "      <td>1</td>\n",
       "      <td>Question</td>\n",
       "    </tr>\n",
       "    <tr>\n",
       "      <th>3</th>\n",
       "      <td>1</td>\n",
       "      <td>Question</td>\n",
       "    </tr>\n",
       "    <tr>\n",
       "      <th>4</th>\n",
       "      <td>1</td>\n",
       "      <td>Question</td>\n",
       "    </tr>\n",
       "  </tbody>\n",
       "</table>\n",
       "</div>"
      ],
      "text/plain": [
       "  PostTypeId PostTypeLabel\n",
       "0          1      Question\n",
       "1          2        Answer\n",
       "2          1      Question\n",
       "3          1      Question\n",
       "4          1      Question"
      ]
     },
     "execution_count": 59,
     "metadata": {},
     "output_type": "execute_result"
    }
   ],
   "source": [
    "# Copied over from the Week_01_1_VW notebook\n",
    "new_labels = {\n",
    "    '1': \"Question\",\n",
    "    '2': \"Answer\", \n",
    "    '3': \"Orphaned tag wiki\",\n",
    "    '4': \"Tag wiki excerpt\",\n",
    "    '5': \"Tag wiki\",\n",
    "    '6': \"Moderator nomination\", \n",
    "    '7': \"Wiki placeholder\"\n",
    "}\n",
    "\n",
    "# There are in fact 15 tags, but our data only includes the first seven. \n",
    "# Don't \"clobber\" PostTypeId column -- create new column using .map\n",
    "stack_df[\"PostTypeLabel\"] = stack_df[\"PostTypeId\"].map(new_labels)\n",
    "\n",
    "stack_df[['PostTypeId', 'PostTypeLabel']].head()"
   ]
  },
  {
   "cell_type": "markdown",
   "metadata": {},
   "source": [
    "Let's build a frequency table comparing these two categorical variables to each other."
   ]
  },
  {
   "cell_type": "code",
   "execution_count": 60,
   "metadata": {},
   "outputs": [
    {
     "data": {
      "text/html": [
       "<div>\n",
       "<style scoped>\n",
       "    .dataframe tbody tr th:only-of-type {\n",
       "        vertical-align: middle;\n",
       "    }\n",
       "\n",
       "    .dataframe tbody tr th {\n",
       "        vertical-align: top;\n",
       "    }\n",
       "\n",
       "    .dataframe thead th {\n",
       "        text-align: right;\n",
       "    }\n",
       "</style>\n",
       "<table border=\"1\" class=\"dataframe\">\n",
       "  <thead>\n",
       "    <tr style=\"text-align: right;\">\n",
       "      <th>PostTypeLabel</th>\n",
       "      <th>Answer</th>\n",
       "      <th>Moderator nomination</th>\n",
       "      <th>Question</th>\n",
       "      <th>Tag wiki</th>\n",
       "      <th>Tag wiki excerpt</th>\n",
       "      <th>Wiki placeholder</th>\n",
       "    </tr>\n",
       "    <tr>\n",
       "      <th>FirstTagGrouped</th>\n",
       "      <th></th>\n",
       "      <th></th>\n",
       "      <th></th>\n",
       "      <th></th>\n",
       "      <th></th>\n",
       "      <th></th>\n",
       "    </tr>\n",
       "  </thead>\n",
       "  <tbody>\n",
       "    <tr>\n",
       "      <th>analysis</th>\n",
       "      <td>0</td>\n",
       "      <td>0</td>\n",
       "      <td>1010</td>\n",
       "      <td>0</td>\n",
       "      <td>0</td>\n",
       "      <td>0</td>\n",
       "    </tr>\n",
       "    <tr>\n",
       "      <th>character</th>\n",
       "      <td>0</td>\n",
       "      <td>0</td>\n",
       "      <td>1775</td>\n",
       "      <td>0</td>\n",
       "      <td>0</td>\n",
       "      <td>0</td>\n",
       "    </tr>\n",
       "    <tr>\n",
       "      <th>dialogue</th>\n",
       "      <td>0</td>\n",
       "      <td>0</td>\n",
       "      <td>629</td>\n",
       "      <td>0</td>\n",
       "      <td>0</td>\n",
       "      <td>0</td>\n",
       "    </tr>\n",
       "    <tr>\n",
       "      <th>identify-this-movie</th>\n",
       "      <td>0</td>\n",
       "      <td>0</td>\n",
       "      <td>842</td>\n",
       "      <td>0</td>\n",
       "      <td>0</td>\n",
       "      <td>0</td>\n",
       "    </tr>\n",
       "    <tr>\n",
       "      <th>other</th>\n",
       "      <td>37036</td>\n",
       "      <td>21</td>\n",
       "      <td>10128</td>\n",
       "      <td>2211</td>\n",
       "      <td>2211</td>\n",
       "      <td>5</td>\n",
       "    </tr>\n",
       "    <tr>\n",
       "      <th>plot-explanation</th>\n",
       "      <td>0</td>\n",
       "      <td>0</td>\n",
       "      <td>8186</td>\n",
       "      <td>0</td>\n",
       "      <td>0</td>\n",
       "      <td>0</td>\n",
       "    </tr>\n",
       "  </tbody>\n",
       "</table>\n",
       "</div>"
      ],
      "text/plain": [
       "PostTypeLabel        Answer  Moderator nomination  Question  Tag wiki  \\\n",
       "FirstTagGrouped                                                         \n",
       "analysis                  0                     0      1010         0   \n",
       "character                 0                     0      1775         0   \n",
       "dialogue                  0                     0       629         0   \n",
       "identify-this-movie       0                     0       842         0   \n",
       "other                 37036                    21     10128      2211   \n",
       "plot-explanation          0                     0      8186         0   \n",
       "\n",
       "PostTypeLabel        Tag wiki excerpt  Wiki placeholder  \n",
       "FirstTagGrouped                                          \n",
       "analysis                            0                 0  \n",
       "character                           0                 0  \n",
       "dialogue                            0                 0  \n",
       "identify-this-movie                 0                 0  \n",
       "other                            2211                 5  \n",
       "plot-explanation                    0                 0  "
      ]
     },
     "execution_count": 60,
     "metadata": {},
     "output_type": "execute_result"
    }
   ],
   "source": [
    "pd.crosstab(stack_df[\"FirstTagGrouped\"], stack_df[\"PostTypeLabel\"])"
   ]
  },
  {
   "cell_type": "markdown",
   "metadata": {},
   "source": [
    "So basically everything is a `Question`. Huh. Is there a particular category of first tag that predicts `Answer`, or is it spread disparately across tags?"
   ]
  },
  {
   "cell_type": "code",
   "execution_count": 70,
   "metadata": {},
   "outputs": [
    {
     "data": {
      "text/plain": [
       "array([None], dtype=object)"
      ]
     },
     "execution_count": 70,
     "metadata": {},
     "output_type": "execute_result"
    }
   ],
   "source": [
    "stack_df.loc[stack_df[\"PostTypeLabel\"] == \"Answer\"][\"Tags\"].unique()"
   ]
  },
  {
   "cell_type": "markdown",
   "metadata": {},
   "source": [
    "So answers don't have tags... I guess that answers my question!\n",
    "\n",
    "Ok, how about whether the title itself is a question, i.e. ending in `?`?"
   ]
  },
  {
   "cell_type": "code",
   "execution_count": 81,
   "metadata": {},
   "outputs": [
    {
     "data": {
      "text/html": [
       "<div>\n",
       "<style scoped>\n",
       "    .dataframe tbody tr th:only-of-type {\n",
       "        vertical-align: middle;\n",
       "    }\n",
       "\n",
       "    .dataframe tbody tr th {\n",
       "        vertical-align: top;\n",
       "    }\n",
       "\n",
       "    .dataframe thead th {\n",
       "        text-align: right;\n",
       "    }\n",
       "</style>\n",
       "<table border=\"1\" class=\"dataframe\">\n",
       "  <thead>\n",
       "    <tr style=\"text-align: right;\">\n",
       "      <th></th>\n",
       "      <th>Title</th>\n",
       "      <th>TitleEndsWithQuestion</th>\n",
       "    </tr>\n",
       "  </thead>\n",
       "  <tbody>\n",
       "    <tr>\n",
       "      <th>0</th>\n",
       "      <td>To what extent were the actors in Wedding Cras...</td>\n",
       "      <td>True</td>\n",
       "    </tr>\n",
       "    <tr>\n",
       "      <th>1</th>\n",
       "      <td>None</td>\n",
       "      <td>False</td>\n",
       "    </tr>\n",
       "    <tr>\n",
       "      <th>2</th>\n",
       "      <td>Evaluating characters by means of description</td>\n",
       "      <td>False</td>\n",
       "    </tr>\n",
       "    <tr>\n",
       "      <th>3</th>\n",
       "      <td>Was the original \"Pink Panther\" movie intended...</td>\n",
       "      <td>True</td>\n",
       "    </tr>\n",
       "    <tr>\n",
       "      <th>4</th>\n",
       "      <td>What does the ending of The Tree of Life mean?</td>\n",
       "      <td>True</td>\n",
       "    </tr>\n",
       "  </tbody>\n",
       "</table>\n",
       "</div>"
      ],
      "text/plain": [
       "                                               Title  TitleEndsWithQuestion\n",
       "0  To what extent were the actors in Wedding Cras...                   True\n",
       "1                                               None                  False\n",
       "2      Evaluating characters by means of description                  False\n",
       "3  Was the original \"Pink Panther\" movie intended...                   True\n",
       "4     What does the ending of The Tree of Life mean?                   True"
      ]
     },
     "execution_count": 81,
     "metadata": {},
     "output_type": "execute_result"
    }
   ],
   "source": [
    "# Replace empty titles with \"\", which obviously don't end with `?`\n",
    "stack_df[\"TitleEndsWithQuestion\"] = stack_df[\"Title\"].fillna(\"\").str.endswith(\"?\")\n",
    "stack_df[['Title', 'TitleEndsWithQuestion']].head()"
   ]
  },
  {
   "cell_type": "code",
   "execution_count": 82,
   "metadata": {},
   "outputs": [
    {
     "data": {
      "text/plain": [
       "TitleEndsWithQuestion\n",
       "False    0.696303\n",
       "True     0.303697\n",
       "Name: proportion, dtype: float64"
      ]
     },
     "execution_count": 82,
     "metadata": {},
     "output_type": "execute_result"
    }
   ],
   "source": [
    "stack_df[\"TitleEndsWithQuestion\"].value_counts(normalize=True)"
   ]
  },
  {
   "cell_type": "markdown",
   "metadata": {},
   "source": [
    "So this is an interesting distribution. Let's compare it with first tags:"
   ]
  },
  {
   "cell_type": "code",
   "execution_count": 85,
   "metadata": {},
   "outputs": [
    {
     "data": {
      "text/html": [
       "<div>\n",
       "<style scoped>\n",
       "    .dataframe tbody tr th:only-of-type {\n",
       "        vertical-align: middle;\n",
       "    }\n",
       "\n",
       "    .dataframe tbody tr th {\n",
       "        vertical-align: top;\n",
       "    }\n",
       "\n",
       "    .dataframe thead th {\n",
       "        text-align: right;\n",
       "    }\n",
       "</style>\n",
       "<table border=\"1\" class=\"dataframe\">\n",
       "  <thead>\n",
       "    <tr style=\"text-align: right;\">\n",
       "      <th>TitleEndsWithQuestion</th>\n",
       "      <th>False</th>\n",
       "      <th>True</th>\n",
       "    </tr>\n",
       "    <tr>\n",
       "      <th>FirstTagGrouped</th>\n",
       "      <th></th>\n",
       "      <th></th>\n",
       "    </tr>\n",
       "  </thead>\n",
       "  <tbody>\n",
       "    <tr>\n",
       "      <th>analysis</th>\n",
       "      <td>130</td>\n",
       "      <td>880</td>\n",
       "    </tr>\n",
       "    <tr>\n",
       "      <th>character</th>\n",
       "      <td>142</td>\n",
       "      <td>1633</td>\n",
       "    </tr>\n",
       "    <tr>\n",
       "      <th>dialogue</th>\n",
       "      <td>115</td>\n",
       "      <td>514</td>\n",
       "    </tr>\n",
       "    <tr>\n",
       "      <th>identify-this-movie</th>\n",
       "      <td>728</td>\n",
       "      <td>114</td>\n",
       "    </tr>\n",
       "    <tr>\n",
       "      <th>other</th>\n",
       "      <td>42751</td>\n",
       "      <td>8861</td>\n",
       "    </tr>\n",
       "    <tr>\n",
       "      <th>plot-explanation</th>\n",
       "      <td>735</td>\n",
       "      <td>7451</td>\n",
       "    </tr>\n",
       "  </tbody>\n",
       "</table>\n",
       "</div>"
      ],
      "text/plain": [
       "TitleEndsWithQuestion  False  True \n",
       "FirstTagGrouped                    \n",
       "analysis                 130    880\n",
       "character                142   1633\n",
       "dialogue                 115    514\n",
       "identify-this-movie      728    114\n",
       "other                  42751   8861\n",
       "plot-explanation         735   7451"
      ]
     },
     "execution_count": 85,
     "metadata": {},
     "output_type": "execute_result"
    }
   ],
   "source": [
    "frequency_table = pd.crosstab(stack_df[\"FirstTagGrouped\"], stack_df[\"TitleEndsWithQuestion\"])\n",
    "frequency_table"
   ]
  },
  {
   "cell_type": "code",
   "execution_count": 86,
   "metadata": {},
   "outputs": [
    {
     "name": "stdout",
     "output_type": "stream",
     "text": [
      "Chi-squared statistic: 24117.602\n",
      "p-value: 0.000\n",
      "Degrees of freedom: 5\n"
     ]
    }
   ],
   "source": [
    "chi2, p, dof, expected = stats.chi2_contingency(frequency_table)\n",
    "\n",
    "print(f\"Chi-squared statistic: {chi2:.3f}\")\n",
    "print(f\"p-value: {p_value:.3f}\")\n",
    "print(f\"Degrees of freedom: {dof}\")"
   ]
  },
  {
   "cell_type": "markdown",
   "metadata": {},
   "source": [
    "## END MY WORK"
   ]
  },
  {
   "cell_type": "markdown",
   "metadata": {},
   "source": []
  }
 ],
 "metadata": {
  "kernelspec": {
   "display_name": "fundamentals",
   "language": "python",
   "name": "python3"
  },
  "language_info": {
   "codemirror_mode": {
    "name": "ipython",
    "version": 3
   },
   "file_extension": ".py",
   "mimetype": "text/x-python",
   "name": "python",
   "nbconvert_exporter": "python",
   "pygments_lexer": "ipython3",
   "version": "3.10.11"
  }
 },
 "nbformat": 4,
 "nbformat_minor": 2
}
