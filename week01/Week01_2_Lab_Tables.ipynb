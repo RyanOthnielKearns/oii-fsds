{
 "cells": [
  {
   "cell_type": "markdown",
   "metadata": {},
   "source": [
    "# FSDS24 - Week 1, Lab 2: Exploring bivariate relationships\n",
    "\n",
    "In this lab, you will be encouraged to explore the relationships between two variables in the data set. This will involve some data cleaning in addition to any statistical routines. You are welcome to use the same data as in the previous lab and to borrow code from the virtual walkthrough as well as from the last lab. \n",
    "\n",
    "The important distinctions to make below are whether we are dealing with continuous or categorical data and whether the continuous data should be considered by value (parametric) or by rank order (non-parametric). You are again welcome to process any column in the data set for this as well as to filter the data according to any goals that you might have for inquiry. There is no need to develop a specific research question at this time, but you should be considering research questions as a form of motivation when exploring this data. \n",
    "\n",
    "On Friday October 18th you will be encouraged to share these results with your group during the first part of the tutorial. "
   ]
  },
  {
   "cell_type": "markdown",
   "metadata": {},
   "source": [
    "# Exercise 1. A bivariate correlation\n",
    "\n",
    "- Locate two numeric varaibles within the columns. \n",
    "- Filter the data so that you only have valid columns according to some reasonable logic.\n",
    "- Report on the key measures of central tendency (mean, median, and standard deviation; mode might not be relevant for numeric data due to resolution issues)\n",
    "- Produce a JointPlot or a ScatterPlot for these two varaibles. \n",
    " - Unlike the Iris Data, we would not assume that your data will be faceted, though it might be depending on your question. \n",
    " - Consider whether a parametric or non-parametric correlation is more suitable. \n",
    " - Perform a correlation (Pearson product moment or Spearman's Rank Order correlation) and report the results. \n",
    "   - You can perform both and explain the difference if you are unsure or believe that both might be suitable. \n",
    "\n",
    "In this case, we would prefer that you select variables which you think might have some meaningful relationship to each other. Prior to your analysis, introduce your variables and explain why a relationship between them is tenable. Then when you select your bivariate relationship to explore based on the PairGrid. You do not need to write the specific null hypothesis but it might help your wording. In practice, we rarely state the null explicitly but instead often assert a hypothesis that implies the null hypothesis.\n",
    "\n",
    "Thereafter, you are welcome to explore other relationships which might be tenable or significant but we encourage you to first think deductively. "
   ]
  },
  {
   "cell_type": "code",
   "execution_count": null,
   "metadata": {},
   "outputs": [],
   "source": [
    "# YOUR ANSWER HERE (Create new markdown or Python cells as appropriate)\n",
    "\n"
   ]
  },
  {
   "cell_type": "markdown",
   "metadata": {},
   "source": [
    "# Exercise 2. Considering categorical variables \n",
    "\n",
    "How might we locate a categorical varaible within the Movie Stack Exchange? What about two? Would you be able to construct your own Categorical variable? Here are some ideas for what might suit as a variable:\n",
    "- Binary:\n",
    "  - Presence or absence of a word in the BodyText\n",
    "  - A 'cut point' on a distribution, such as all those above and below the elbow on a steep distribution.\n",
    "- Multinomial: Different types of PostTypeID (though in fairness, it really ends up functionally binary as its mostly Questions and Answers)\n",
    "  - Different 'roles' of users (we will see more of this tomorrow), but one role might be to post a question and one might be to only post an answer,\n",
    "  - Presence of specific tags (note: that a post can have multiple tags so one would need to ensure these are _mutually exclusive_),\n",
    "  - Different 'eras' of posts (we will see more of this next week when we explore data over a time series, but for now one might consider posts by year naively)\n",
    "\n",
    "Find either two Categorical variables, or a Categorical variable and a continuous variable. Then, make a comparison test or a test of independence. Justify whether your means comparison test is parametric or non-parametric. \n",
    "\n",
    "Below you should: \n",
    "- Explain your two variables first in text: I chose X because ... and Y because .... Posit why you believe there should or should not be a relationship between the two variables in text.\n",
    "- Then perform the analysis, first by doing an exploratory analysis reporting on the N for each group or category as well as key measures of central tendency. \n",
    "- Then show a plot or table that summarises the two variables jointly. This might be a box-plot, a bar chart, or a cross tab (for two categorical variables). \n",
    "- Then report the statistical test and comment on the results. \n",
    "\n",
    "Again, like in the analysis above, we recommend that you do not 'seek out' a relationship that is significant but start deductively from what you might understand about the nature of online communication, your own intuition, and where possible or appropriate, existing literature. We would be just as happy to see null findings done well as to see a significant value. \n",
    "\n"
   ]
  },
  {
   "cell_type": "code",
   "execution_count": null,
   "metadata": {},
   "outputs": [],
   "source": [
    "# YOUR ANSWER HERE (Create new markdown or Python cells as appropriate)"
   ]
  }
 ],
 "metadata": {
  "language_info": {
   "name": "python"
  }
 },
 "nbformat": 4,
 "nbformat_minor": 2
}
