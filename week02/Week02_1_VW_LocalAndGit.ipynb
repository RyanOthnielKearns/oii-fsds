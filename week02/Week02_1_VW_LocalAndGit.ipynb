{
 "cells": [
  {
   "cell_type": "markdown",
   "metadata": {},
   "source": [
    "## Fundamentals of Social Data Science\n",
    "# Week 2. Day 1. The file system and navigating hierarchies \n",
    "\n",
    "This walkthrough will cover the basics of the file system, the use of GitHub, and dig a little deeper into the command prompt or terminal. \n",
    "\n",
    "Learning goals:\n",
    "- Understand paths, globals, piping, and simple terminal commands.\n",
    "- Running a bash script and running a python script.\n",
    "- Introduce GitHub and git, the logic of pull, push, clone, as well as .gitignore. \n",
    "- Understand how one can traverse a hierarchy recursively, which we will do with a toy example. \n"
   ]
  },
  {
   "cell_type": "markdown",
   "metadata": {
    "vscode": {
     "languageId": "plaintext"
    }
   },
   "source": [
    "# The Terminal \n",
    "\n",
    "We have thus far used the terminal and made some assumptions with your familiarity. Yet, it is worth taking a moment to have a dedicated look to command line interfaces. Much work will be done with CLIs, even if modern systems have excellent affordances for developing code and presenting results. \n",
    "\n",
    "The main command line interface on Mac is the Terminal. On Windows it's the shell, or typically in use \"PowerShell\". The commands for Terminal and Powershell are somewhat similar but there are subtle differences that are PowerShell-specific. I mention PowerShell-specific, because Mac's app is the Terminal, but the terminal itself is really just a window to a CLI, and that CLI is probably called `bash` or `zsh` depending on your version of Mac. When one is interacting with a remote computer in some way they are often also interfacing with a `bash` or sometimes a `zsh` CLI. \n",
    "\n",
    "In this couse we will show how to connect to a remote server next week. This will be done with Visual Studio but also with a terminal. \n",
    "\n",
    "## Key concepts with a terminal\n",
    "\n",
    "A terminal has a 'state'. That is to say it starts with a specific location and set of possible commands. These commands come from the shell, so `zsh` might have slightly different conventions from `bash` but generally they have similar commands. The old `DOS` prompt on windows, which you can still access by typing `cmd` into the search pane on windows can bring up a 'Command Prompt'. There the commands can be different, but generally the same commands work on PowerShell as they do on a mac Terminal app. \n",
    "\n",
    "When you open the app it will present a 'command prompt' which is a visual signifier of the state of the terminal. It will typically show key details like: `username@hostname:current_directory$`. Here, `username` is the name of the logged-in user, `hostname` is the name of the computer, and `current_directory` represents the path to the current working directory. There are, however, ways to format this prompt to make it shorter or display different details. The cursor then starts from this prompt and one can type commands. These commands are understood by the shell as coming from this specific `current_directory`. Thus, we can discover which directory we are working in with `pwd` or \"present working directory\". On DOS it would be `cwd`. \n",
    "\n",
    "From here we can list the contents of the directory, make a subdirectory or even open this directory in an explorer window. Try the following: \n",
    "- `ls`: Lists a directory's contents. Try the following arguments to see a difference: `ls -a`, `ls -l`. The second one is useful because it shows size and _permissions_. We will cover permissions later. \n",
    "- `mkdir temp`: This will make a directory in this folder called \"temp\". \n",
    "- `cd temp`: This will now change the prompt location to be inside that temp directory. \n",
    "- `touch tempfile`: This will create an empty file in the computer in the temp directory.\n",
    "- `cd ..`: This will change directory to the parent folder. \n",
    "- `rm temp`: This will _may_ delete the folder, but not this time, since there is a file inside. To force it to delete the folder and its contents we would write `rm -r temp`. Try that and clean up the newly made folder. The `-r` refers to 'recursive', which loosely means follow all the links. We will cover recursion below.\n",
    "\n",
    "Let's repeat this, but this time, but instead of `touch`, let's edit a file in there. The terminal has a couple baked-in text editors. The most complex of these is probably `vi` / `vim`. This stands for 'Virtual Interface (modern)'. `vim` is basically the same but has some nice syntax highlighting. Often modern shells will just redirect `vi` to `vim`. So where it says `touch tempfile`, this time write `vi tempfile`. You will now have an entirely new interface and it will be a bit tricky to leave this.\n",
    "\n",
    "## A brief departure into `vim`. \n",
    "\n",
    "When you first open vi you might be temped to start typing immediately, but this will not work as expected. You are in a 'modal interface'. It has different modes. The initial model is the 'command mode', so here you would type a command. One command would be to insert text into the file. So if you type `i` then watch the interface change and then you can start typing. But when you are done, how do you get back to the command line? A CLI does not assume access to a mouse or trackpad. So it does not have the same visual affordances for pointing. Rather, it uses visual affordances for states. We have changed our CLI state into `--insert--` within `vi`. Let's change back to the command mode: press escape. Observe it has changed state and `--insert--` has disappeared. If you type `:q` you will be asking to quit. But it might remind that you have not saved the file. If you type `:wq` then it will write and quit. `vi` is very deep and can be used with great skill for many old school programmers, but it is often intimidating and not really the easiest when you simply want to edit a fine. \n",
    "\n",
    "### Nano instead\n",
    "Typically shells will also have access to a more straightforward editor. Here are a couple: `nano` and `pico`. Depending on your OS, one may be available. Generally one can type `nano` and it will direct accordingly. This editor generally just has the single editing pane. Instead of a separate command state, it uses the control key to bind to basic operations. So you would type as one command `ctrl-x` to exit and `ctrl-w` to save. If you type `nano somefile.txt` it will edit that file even if it hasn't been created. But if you type just `nano` then it will ask for the name of the file. \n",
    "\n",
    "## Help files on a terminal\n",
    "\n",
    "A useful reason to introduce vim is that it is very similar to the set of state operations that the terminal uses to display help files. In the terminal, help is often included as a manual for a specific command, thus one would write `man nano` or `man cd` to bring up the manual for that command. But this will be another state, like `vi`. To scroll one can use the space to go down (or `shift-space` to go up). But at the end is not a cursor. One did not append the `man` file to the prompt. To return to the prompt state one can type q at any point (notice that there is already a `:` at the bottom waiting for a command unlike `vi`).  \n",
    "\n"
   ]
  },
  {
   "cell_type": "markdown",
   "metadata": {},
   "source": [
    "# Scripting in the shell \n",
    "\n"
   ]
  },
  {
   "cell_type": "markdown",
   "metadata": {},
   "source": [
    "Python and R are both ultimately kernels for performing operations. When we run a program in Python, either in VS or in the command line, we are sending these instructions to a kernel. Python kernels take text based instructions and compile them right then and run the compiled program. This is often why Python is called a scripting language. `bash` is also a scripting language such that we can chain commands like `cd` and `mkdir` together into a script, as well as do things like send information to a file or to standard out. Below is a simple shell script that will create two files, make a directory, and write those files to the directory. \n",
    "\n",
    "If you save this as a `*.sh` file you would be able to run it. However, there will be some important details about running this file related to _permissions_ as suggested earlier. The file itself is very readable, and was produced by Claude, (see AI declaration below). It includes variables and the use of the `echo` command, which is useful command for sending text. You can use `echo` directly in the terminal to print out some text. But in this case, it uses echo and redirects the text using `> <filepath>` and `>> <filepath>` (overwrite and append, equivalent to python's `fileout.open(<filepath>, 'w')` and `..., 'a')` specifcally).\n",
    "\n",
    "I saved this file in a `scripts` folder under `week01`. So to navigate, `cd scripts`. And then you can run the file, assuming permissions are sorted."
   ]
  },
  {
   "cell_type": "markdown",
   "metadata": {},
   "source": [
    "## File Permissions \n",
    "\n",
    "The file is available from Canvas. When you save it in the scripts folder it may or may not run for you right away. The file needs to have the correct permissions to run. On Unix systems, including the server, these permissions are categorised as: {this user}{user's group}{all users}. And for each category one can have `-` (no permissions), `r` (read access), `w` (write access), `x` (run / execute access). So recall the `ls -a` command above. You can now interpret the permissions on the left. \n",
    "\n",
    "Check the permissions of the bash script `make_tempfiles.sh`. You will want to change the permission so that you can run the file. We can use a command for this: `chmod`. There are a couple one can assign permissions using `chmod`. Typically this would involve using the `xrw` codes or their numeric equivalents (which can be found in `man chmod`). Here we simply want to ensure the user can execute the file so `chmod +x make_tempfiles.sh` will suffice. If this is a protected directory it might ask for administrator permissions. This should not occur and if it does please check you're in a suitable folder under your user directory. \n",
    "\n",
    "To run a bash file you can type `./` before the file. So `./make_tempfiles.sh` should run with the correct permissions. \n",
    "\n",
    "Explore either with the terminal or with your explorer window to see that the file has run correctly. \n",
    "\n",
    "> Shell Tip. To open the `pwd` in Finder or Windows Explore, type `open .` at the prompt. `.` refers to here the way `..` refers to the parent of here. So `open ..` will open the parent in a Finder window.    "
   ]
  },
  {
   "cell_type": "code",
   "execution_count": 1,
   "metadata": {},
   "outputs": [],
   "source": [
    "# %load scripts/create-folder-script.sh"
   ]
  },
  {
   "cell_type": "markdown",
   "metadata": {
    "vscode": {
     "languageId": "plaintext"
    }
   },
   "source": [
    "## File operations in Python \n",
    "\n",
    "The file `make_tempfiles.py` does the same thing as `make_tempfiles.sh` but does it in Python. You can view the two of them to see the differences or commonalities. The Python script uses the `os` library which is a generally low level but interoperable library for writing files and performing operations on the operating system. While bash scripts would run with `./<filename>` a Python file runs with `python <filename>`. Of course, you can run a Python file from within a bash script if you write `python <filename>` inside the bash script. Similarly, you can run all sorts of commands in such a script, like `pip`. Thus, one might run a script to install a series of components and set up one's environment for coding. \n",
    "\n",
    "In the `.py` file, most of the code should be self-explanatory. However, I want to highlight the use of `with <file_opener> as file:`. This is a good convention in Python. `file` in this case is a file opener object. It is important to close the file when you are done. This can be done with: \n",
    "\n",
    "~~~py\n",
    "file = open(\"temp.txt\", 'w')\n",
    "file.write(\"hello temp\")\n",
    "file.close()\n",
    "~~~\n",
    "\n",
    "But by using `with ...` then when we get out of that set of operations, it automatically closes the file. One rationale for this is that it ensures any text in a buffer is reliably saved to disk. "
   ]
  },
  {
   "cell_type": "code",
   "execution_count": null,
   "metadata": {},
   "outputs": [],
   "source": [
    "# %load scripts/create-folder-script-python.py"
   ]
  },
  {
   "cell_type": "markdown",
   "metadata": {},
   "source": [
    "# git and Github in the terminal.  \n",
    "\n",
    "I use GitHub in Visual Studio for this project and others. However, it is important to understand the cli for GitHub as this is commonly what is explained when engaging with other projects and taken as given even in the GUI, whether Visual Studio or GitHub's dedicated program. \n",
    "\n",
    "`git` is an approach to versioning files. It uses a standard set of operations. If a project exists on GitHub, you can engage with it using `git` commands. However, there are other repositories that use `git` (such as GitLab which hosts many Linux projects) and you can set up your own repository using git with a little extra exploration of the topic. That said, the majority of open source code is on GitHub and its worth being acquianted with GitHub's features. \n",
    "\n",
    "To start, check that `git` is installed in your system. It might not be. There are several ways to get `git` depending on your circumstance. If you download the GitHub Desktop app, it should check and install `git` on the command line as well, but it might not. \n",
    "\n",
    "For the terminal / PowerShell, type: `git -version`. If not found: \n",
    "\n",
    "Mac: You can use homebrew. You can see instructions on [https://brew.sh](). The command to install is: \n",
    "\n",
    "~~~sh\n",
    "/bin/bash -c \"$(curl -fsSL https://raw.githubusercontent.com/Homebrew/install/HEAD/install.sh)\"\n",
    "~~~\n",
    "\n",
    "Then once it's installed, type `brew install git`. \n",
    "\n",
    "Windows: Download the git installer from: [https://git-scm.com/downloads/win](). \n",
    "\n",
    "Linux: `sudo apt update` followed by `sudo apt install git`. \n"
   ]
  },
  {
   "cell_type": "markdown",
   "metadata": {},
   "source": [
    "# Git in Visual Studio \n",
    "\n",
    "We can work with GitHub directly in visual studio. However, we will need to download the repository through the CLI unless we look for an extension to help us. The CLI is recommended by VS help documentation. Understandably, they recommend the use of the terminal from within VS code. From here, we can clone an example library. Rather than shamelessly plug my own book, which I think is an okay library but still needs some improvement, particularly in package management, let's look at Jake VanDerPlas' Data Science Handbook from O'Reilly. \n",
    "\n",
    "In the terminal, first check you are in a suitable directory. You may want to check with `pwd` and then navigate to a parent of the week folders and create one called `resources`. I will go one folder above so that `resources` is not in my GitHub repo (i.e. `cd <preferred directory> && mkdir resources && cd resources`).\n",
    "\n",
    "if you type: `git clone https://github.com/jakevdp/PythonDataScienceHandbook.git` this should pull down the book to that directory. \n",
    "\n",
    "It should be its own folder for the repo called \"PythonDataScienceHandbook\". Within it if you type `ls -a` you can see that there are a few \"hidden\" files, denoted by a period at the beginning of the file. `.git` is a folder that git uses to manage this repository and should be left alone. `.gitignore` is a file we can edit to say what files or types of files to ignore (using the wildcard globals, like *.txt to ignore all text files).\n",
    "\n",
    "Be careful editing these files if you want to stay in sync with this repository. This can be a bit tricky with jupyter files since even running the file will change it. For that reason, we will continue to distribute the files for this class on canvas and expect you to manage your own folders. That being said, you can create your own repository of the class files and check it into Github, though I would be careful with this in the sense that these lecture notes may or may note have: authorship information and license information. You will want to ensure that the license for your repository is what you expect. \n",
    "\n",
    "Common ones include MIT and BSD licenses. These are effectively 'no warranty, no liability' licences. GPL is an interesting licence in that it not only says 'this code should be available publicly' but that all derivatives should also be publicly available and open source. It is thus an aggressively open source licence, were MIT and BSD both allow more flexibility in their use in commercial work. \n",
    "\n",
    "In this case, the license, as seen on the web is MIT. Then within the folders, we can see all of the files in this repository including the Jupyter notebooks. "
   ]
  },
  {
   "cell_type": "markdown",
   "metadata": {},
   "source": [
    "# Forking a repository\n",
    "\n",
    "If you want to clone a repository with the intent to create your own changes and have your own version, then you can 'fork' a repository. Notice that this repository has almost 18k forks. These are people who instead of merely cloning it, they have their own version on github. Where cloning it can be anonymous, forking it requires credentials. These credentials are also necessary to create your own respository from scratch or to make comments on other people's respositories. You will also see this in something called a 'pull request' later, which is one way that a forked respository can interact with the origin repository, as an example of collaboration across projects. \n",
    "\n",
    "\n",
    "## Create an account on GitHub. \n",
    "\n",
    "You do not need to use real names or your oii account, but we will want to know your github account, and you might also want to have an official account that builds up a portfolio of work including this repo. \n",
    "\n",
    "## Fork the repo on the web\n",
    "\n",
    "Navigate to https://github.com/jakevdp/PythonDataScienceHandbook and then press 'fork' in the upper right corner (\"+ create a new fork\"). This will create a new repo under your account initialised with this resource. Then you can work on the text and even sync it back up to GitHub. If you were to try to sync changes with the original you would be prevented by git, since you likely do not have permissions to do this (i.e. you are not a member of that repository's team). \n",
    "\n",
    "You can also fork this repo in the GitHub Desktop application or via the terminal. In order to do this you would need to ensure that the github-cli is installed. This is different from `git` from homebrew or via the `gitscm` installer. \n",
    "\n",
    "# Making changes to a repo locally and on the server \n",
    "\n",
    "We normally make changes to a respository on our local machines and then 'commit' these changes to the server. This can be confusing, especially when multiple people are making changes to files and we need to ensure that everyone's code is not overwriting each others. To start simple, we can practice with Jake's library in our own account. \n",
    "\n",
    "What we will want to do is make a change and then save the file so the change is saved to disk. In VS code's source control tab, you will see details of which files have been changed. We can then `commit` these changes, which means they will be added to our online repo. When we commit the changes we also would write a commit statement. This should be written as an action as if saying what these changes will do to the existing repo. So we wouldn't say \"I'm just practicing opening the file\", but perhaps \"include local user practice on the file\" or \"include results from files ran locally\". However, committing changes does not automatically synchronise those changes to the server. To do that we would `push` the changes to the server. This can be accomplished either from the sidebar source control pane or in the terminal. In the directory with .git we would type `git push` and the changes should be pushed to the server. If someone else had created changes since we last looked at the repo, we can bring those changes to our local version using `git pull`. In VS code we can do these in one operation with `git sync` which will both push our changes and then pull down any additional changes.\n",
    "\n",
    "## Staging and .gitignore: Being selective about changes  \n",
    "\n",
    "You might end up creating output that is just working output. You might work on lots of files but really only want to upload a couple in particular. In these cases, we can be selective about the output that we upload to GitHub. To exclude a file or type of file we would use `.gitignore` to filter out. If we want to be selective and just filter in, we can 'stage' our changes so that only those staged files will be committed and uploaded to the server. "
   ]
  },
  {
   "cell_type": "markdown",
   "metadata": {},
   "source": [
    "# Recursion: A key concept in file management \n",
    "\n",
    "Before concluding today, which was mainly practice _outside_ Python, I wanted to include a single useful concept that we saw earlier: recursion. It's the idea of a function operating on itself. This is a favourite topic among computer science nerds. For example, for the GNU public licence mentioned above (GPL), GNU stands for \"GNU's Not Unix\". So what does the GNU stand for in \"GNU's Not Unix\"? \"GNU's Not Unix\" and so forth. In that case, we could go on ad infinitum. Which leads to an important detail about a \"recursive function\": it would include both a recursive element and a stopping condition. Recursive functions can be found in all kinds of programming and math approaches. We will see it later when we build threads on reddit. But it's also useful for exploring a file system.\n",
    "\n",
    "Imagine we have a series of files organised like so: \n",
    "\n",
    "article_name\n",
    "- 2023\n",
    "- - Jun\n",
    "- - - 01\n",
    "- - - 03\n",
    "- - Jul\n",
    "- - Aug\n",
    "- 2024\n",
    "- - Jan\n",
    "- - Feb\n",
    "- - Apr\n",
    "\n",
    "\n",
    "Where we have some top-level folder, then an intermediary folder, then other folders downwards with files at the smallest depths. How might you count the files? You could open them all up in an explorer window and do it by hand. Or perhaps you could do it with code. Have a look at this non-recursive code that will go three folders deep: "
   ]
  },
  {
   "cell_type": "code",
   "execution_count": 1,
   "metadata": {},
   "outputs": [
    {
     "data": {
      "text/plain": [
       "False"
      ]
     },
     "execution_count": 1,
     "metadata": {},
     "output_type": "execute_result"
    }
   ],
   "source": [
    "from pathlib import Path\n",
    "\n",
    "new_path = Path(\"/Users/teaching_demo/Documents/GitHub\")\n",
    "\n",
    "new_path.exists()"
   ]
  },
  {
   "cell_type": "code",
   "execution_count": 5,
   "metadata": {},
   "outputs": [
    {
     "data": {
      "text/plain": [
       "241"
      ]
     },
     "execution_count": 5,
     "metadata": {},
     "output_type": "execute_result"
    }
   ],
   "source": [
    "import os\n",
    "from pathlib import Path\n",
    "\n",
    "def count_files(folder):\n",
    "    count = 0\n",
    "\n",
    "    if isinstance(folder, str):\n",
    "        folder = Path(folder)\n",
    "\n",
    "    for item in folder.iterdir():\n",
    "        if item.is_dir():\n",
    "            for subitem in item.iterdir():\n",
    "                if subitem.is_dir():\n",
    "                    for subsubitem in subitem.iterdir():\n",
    "                        if subsubitem.is_file():\n",
    "                            count += 1\n",
    "                else:\n",
    "                    if subitem.is_file():\n",
    "                        count += 1\n",
    "        else:\n",
    "            if item.is_file():\n",
    "                count += 1\n",
    "    \n",
    "    return count\n",
    "\n",
    "count_files(Path(\"/Users/kearns/repos/\"))"
   ]
  },
  {
   "cell_type": "markdown",
   "metadata": {},
   "source": [
    "What if our folders are more than three files deep? Should we just use another if statement? How many is enough? Instead we can write a recursive function that says, list the files: if a file is a folder call this function, otherwise add one to the count. \n",
    "\n",
    "So then when it gets to a subfolder, it is thus doing the same thing (the recursive part) until it runs out of subfolders. This is also known as a recursive walk or a recursive directory traversal. Compare this code below with the code above. As we can see the code below calls itself and has a stopping criterion. "
   ]
  },
  {
   "cell_type": "code",
   "execution_count": 8,
   "metadata": {},
   "outputs": [
    {
     "data": {
      "text/plain": [
       "24174"
      ]
     },
     "execution_count": 8,
     "metadata": {},
     "output_type": "execute_result"
    }
   ],
   "source": [
    "def count_files(folder):\n",
    "    count = 0\n",
    "    \n",
    "    for item in os.listdir(folder):\n",
    "        item_path = os.path.join(folder, item)\n",
    "        \n",
    "        if os.path.isdir(item_path):\n",
    "            count += count_files(item_path)  # Recursive call for subdirectories\n",
    "        else:\n",
    "            count += 1  # Increment count for files\n",
    "    \n",
    "    return count\n",
    "\n",
    "count_files(Path(\"/Users/teaching_demo/Documents/GitHub\"))"
   ]
  },
  {
   "cell_type": "markdown",
   "metadata": {},
   "source": [
    "Where the first code only detected 227 files, the second one detected 24174 files. This is why the rm code required the `-r` for recursion. It deleted all the files in there and if it could a folder it would do the same thing, removing the files first and then checking for subdirectories."
   ]
  },
  {
   "cell_type": "markdown",
   "metadata": {},
   "source": [
    "# Today's Lab\n",
    "\n",
    "In today's lab you will be asked to fork and then clone a GitHub repository. This repository contains a number of files that make it look like a reasonable GitHub repo. It includes `requirements.txt`, a `readme.md`, and some files for you to use. This repo will download a Wikipedia page using Python. Then it parses the resulting XML in such a way that it creates folders for each year and month. Your task will be to alter the Python script in two ways: \n",
    "- 1. Edit the Python script so that there is a count_files() method available. Write a print statement that indicates how many files are available for this article. Then run the script again.\n",
    "- 2. Create a condition called 'update'. This should be an argument to the Python file, such that one can write `python xx.py =\"article name\" update=False`. The default state will be `True`. When false, the program will only count the files, but it will not download a new XML and try to create a new folder or set of folders. That way, it will always return the number of files if there is a directory named `\"article name\", but it will not download and process a new version of the file from WikiMedia unless update=True. \n",
    "- 3. Commit and push your changes to your repo. Write an appropriate comment. \n",
    "\n",
    "## Foreshadowing Wednesday's Lab and the group assignment \n",
    "\n",
    "We will have more details about Wednesday's lab on Wednesday including details of the group assignment. But for now, let's say the following: \n",
    "- We will be learning about argument strings and APIs.\n",
    "- We will be altering argument strings to get a complete snapshot of a specific page without asking for unnecessary details. \n",
    "- We will be using the wikipedia API so that we are not simply getting edits of the page but useful metadata about pageviews. \n",
    "- We will construct a DataFrame from the Wikpedia pages, again using a recursive function to build rows. \n",
    "\n",
    "Why are we using recursive functions rather than just one big data set? \n",
    "1. So that you can practice with an operation that is very common. \n",
    "2. So that we can store our data in files that are already somewhat processed \n",
    "  1. And that the processed files will not be in single humungous directories which can cause problems for operating systems (especially over 1k files). \n",
    "\n",
    "On Friday we will be looking at how to arrange data in a time series. The lab on Friday \n",
    "- Taking all the revisions and plotting them on a temporal axis. \n",
    "- Comparing edits across different time resolutions and between pages. \n",
    "\n",
    "Then on Monday you will have time to work as a group. We are requesting that you create a single repository which works as a report, to which everyone in the group could theoretically check in some edits. Upload your report to that repository.  \n",
    "\n",
    "Your group will be responsible for answering the following: \n",
    "1. Compare and contrast the editing intensity of two public figures over the course of their Wikpedia pages. Highlight the editing intensity at different temporal resolutions to show a potential spike or peak related to a relevant time frame. \n",
    "2. Do a lexical comparison over time with the two figures. This should be a term or term(s) that can be found through simple lexical searching (including regex if warranted). Say something about the presence of this word over time. It could be the presence or absence, the times it was edited in/out, the count of this word in the article, as long as it is something we can search for in a string rather than something we would infer using some latent construct or model.  "
   ]
  },
  {
   "cell_type": "markdown",
   "metadata": {},
   "source": [
    "# AI Declaration: \n"
   ]
  },
  {
   "cell_type": "markdown",
   "metadata": {},
   "source": [
    "\n",
    "This time I will be a little more involved in my AI declaration and post the entirety of the chat. This is done using a javascript command that I entered into the browser console. The javascript will take the chat and then render it as markdown. It comes from this GitHub repository: https://github.com/ryanschiang/claude-export . Here you can see my prompts, the code (wherever it was in text rather than artifact), and the explanations provided by Claude. You can also see how I used context to help guide the code, and that generally I already knew what I was looking for ahead of time. The responses from Claude were often verbose. Some of that verbosity is helpful but some of it is unnecessary or makes some assumptions about follow through that might not have been warranted. \n",
    "\n",
    "While I already had the notes for this lecture skectched out, I was surprised that Claude's answer to my first question aligned so clearly with my own learning goals for this class. This time I used Claude Opus 3.0 rather than Sonnet. It's text is sometimes a little more reasonable and it often does not make as verbose code as Sonnet. That said, it is easier to run out of tokens with Opus, and Opus is only available on a subscription. (Note: I then ran it and it gave an error, so this will be TBD unless there's an update). "
   ]
  },
  {
   "cell_type": "markdown",
   "metadata": {},
   "source": []
  }
 ],
 "metadata": {
  "kernelspec": {
   "display_name": "venv",
   "language": "python",
   "name": "python3"
  },
  "language_info": {
   "codemirror_mode": {
    "name": "ipython",
    "version": 3
   },
   "file_extension": ".py",
   "mimetype": "text/x-python",
   "name": "python",
   "nbconvert_exporter": "python",
   "pygments_lexer": "ipython3",
   "version": "3.10.13"
  }
 },
 "nbformat": 4,
 "nbformat_minor": 2
}
